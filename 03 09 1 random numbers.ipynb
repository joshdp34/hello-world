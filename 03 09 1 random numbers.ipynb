{
 "cells": [
  {
   "cell_type": "markdown",
   "metadata": {},
   "source": [
    "### Random Numbers\n",
    "\n",
    "To generate random numbers in python, we can use the random module"
   ]
  },
  {
   "cell_type": "code",
   "execution_count": 1,
   "metadata": {
    "ExecuteTime": {
     "end_time": "2021-03-18T19:56:17.233809Z",
     "start_time": "2021-03-18T19:56:17.229819Z"
    }
   },
   "outputs": [],
   "source": [
    "import random"
   ]
  },
  {
   "cell_type": "markdown",
   "metadata": {},
   "source": [
    "You can pick a random item from a list by using the choices method:"
   ]
  },
  {
   "cell_type": "code",
   "execution_count": 2,
   "metadata": {
    "ExecuteTime": {
     "end_time": "2021-03-18T19:56:18.378304Z",
     "start_time": "2021-03-18T19:56:18.373316Z"
    }
   },
   "outputs": [],
   "source": [
    "students = [\"Andres\", \"Xinyu\", \"Daniel\", \"Hattie\", \"Cassie\", \"Christian\", \"Cassidy\", \"Jonathan\", \"Yejun\"]"
   ]
  },
  {
   "cell_type": "code",
   "execution_count": 3,
   "metadata": {
    "ExecuteTime": {
     "end_time": "2021-03-18T19:56:19.133033Z",
     "start_time": "2021-03-18T19:56:19.114085Z"
    }
   },
   "outputs": [
    {
     "data": {
      "text/plain": [
       "'Cassie'"
      ]
     },
     "execution_count": 3,
     "metadata": {},
     "output_type": "execute_result"
    }
   ],
   "source": [
    "random.choice(students)"
   ]
  },
  {
   "cell_type": "markdown",
   "metadata": {},
   "source": [
    "If I want to randomly pick more than one at a time:\n",
    "(note that his is sampling with replacement)"
   ]
  },
  {
   "cell_type": "code",
   "execution_count": 4,
   "metadata": {
    "ExecuteTime": {
     "end_time": "2021-03-18T19:56:20.605284Z",
     "start_time": "2021-03-18T19:56:20.597304Z"
    }
   },
   "outputs": [
    {
     "data": {
      "text/plain": [
       "['Daniel', 'Xinyu', 'Daniel']"
      ]
     },
     "execution_count": 4,
     "metadata": {},
     "output_type": "execute_result"
    }
   ],
   "source": [
    "random.choices(students, k=3)"
   ]
  },
  {
   "cell_type": "code",
   "execution_count": 5,
   "metadata": {
    "ExecuteTime": {
     "end_time": "2021-03-18T19:56:22.327928Z",
     "start_time": "2021-03-18T19:56:22.320946Z"
    }
   },
   "outputs": [
    {
     "data": {
      "text/plain": [
       "['Hattie', 'Andres', 'Cassie']"
      ]
     },
     "execution_count": 5,
     "metadata": {},
     "output_type": "execute_result"
    }
   ],
   "source": [
    "#without replacement\n",
    "random.sample(students, k=3)"
   ]
  },
  {
   "cell_type": "markdown",
   "metadata": {},
   "source": [
    "If i want to put the list in random order:"
   ]
  },
  {
   "cell_type": "code",
   "execution_count": 6,
   "metadata": {
    "ExecuteTime": {
     "end_time": "2021-03-18T19:56:27.962016Z",
     "start_time": "2021-03-18T19:56:27.958027Z"
    }
   },
   "outputs": [],
   "source": [
    "random.shuffle(students)"
   ]
  },
  {
   "cell_type": "code",
   "execution_count": 7,
   "metadata": {
    "ExecuteTime": {
     "end_time": "2021-03-18T19:56:29.456389Z",
     "start_time": "2021-03-18T19:56:29.451402Z"
    }
   },
   "outputs": [
    {
     "name": "stdout",
     "output_type": "stream",
     "text": [
      "['Daniel', 'Jonathan', 'Hattie', 'Cassidy', 'Cassie', 'Yejun', 'Xinyu', 'Andres', 'Christian']\n"
     ]
    }
   ],
   "source": [
    "print(students)"
   ]
  },
  {
   "cell_type": "markdown",
   "metadata": {},
   "source": [
    "If I want to get a random integer:"
   ]
  },
  {
   "cell_type": "code",
   "execution_count": 6,
   "metadata": {
    "ExecuteTime": {
     "end_time": "2021-03-09T18:41:06.646702Z",
     "start_time": "2021-03-09T18:41:06.638723Z"
    }
   },
   "outputs": [
    {
     "data": {
      "text/plain": [
       "51"
      ]
     },
     "execution_count": 6,
     "metadata": {},
     "output_type": "execute_result"
    }
   ],
   "source": [
    "random.randint(1, 100)"
   ]
  },
  {
   "cell_type": "markdown",
   "metadata": {},
   "source": [
    "## Random values from a distribution"
   ]
  },
  {
   "cell_type": "markdown",
   "metadata": {},
   "source": [
    "We can specify the random values come from a particular distribution model:"
   ]
  },
  {
   "cell_type": "code",
   "execution_count": 13,
   "metadata": {
    "ExecuteTime": {
     "end_time": "2021-03-09T18:45:05.933998Z",
     "start_time": "2021-03-09T18:45:05.928015Z"
    }
   },
   "outputs": [
    {
     "data": {
      "text/plain": [
       "0.5023495662539716"
      ]
     },
     "execution_count": 13,
     "metadata": {},
     "output_type": "execute_result"
    }
   ],
   "source": [
    "random.uniform(0, 1)"
   ]
  },
  {
   "cell_type": "code",
   "execution_count": 14,
   "metadata": {
    "ExecuteTime": {
     "end_time": "2021-03-09T18:45:59.764174Z",
     "start_time": "2021-03-09T18:45:59.757201Z"
    }
   },
   "outputs": [
    {
     "data": {
      "text/plain": [
       "10.667751612351621"
      ]
     },
     "execution_count": 14,
     "metadata": {},
     "output_type": "execute_result"
    }
   ],
   "source": [
    "#normal distribution\n",
    "random.gauss(10, 3)"
   ]
  },
  {
   "cell_type": "markdown",
   "metadata": {
    "ExecuteTime": {
     "end_time": "2021-03-09T18:51:26.673270Z",
     "start_time": "2021-03-09T18:51:26.669285Z"
    }
   },
   "source": [
    "## Using numpy to get random numbers"
   ]
  },
  {
   "cell_type": "code",
   "execution_count": 50,
   "metadata": {
    "ExecuteTime": {
     "end_time": "2021-03-09T18:51:44.028491Z",
     "start_time": "2021-03-09T18:51:44.023503Z"
    }
   },
   "outputs": [],
   "source": [
    "import numpy as np"
   ]
  },
  {
   "cell_type": "code",
   "execution_count": 51,
   "metadata": {
    "ExecuteTime": {
     "end_time": "2021-03-09T18:53:09.147603Z",
     "start_time": "2021-03-09T18:53:08.735706Z"
    }
   },
   "outputs": [
    {
     "data": {
      "text/plain": [
       "array([ 9.54000124,  9.51392021, 14.40541755,  9.04594467, 12.59376078,\n",
       "       12.83416702,  8.81355841, 11.96121761, 10.96773139,  8.35196927,\n",
       "        4.80855878, 13.29905845,  8.14599279,  9.18254871,  7.31207958,\n",
       "       14.38093527, 12.57822607,  9.04305879,  5.17652202, 11.8838172 ,\n",
       "       12.33982474,  6.55523486,  5.10878434,  9.98754011, 11.43310487,\n",
       "        7.09944335, 11.80487769,  8.10361131, 17.71675686, 11.60040709])"
      ]
     },
     "execution_count": 51,
     "metadata": {},
     "output_type": "execute_result"
    }
   ],
   "source": [
    "#a sample of size 30 from a normal with mean 10 std dev 3\n",
    "np.random.normal(10, 3, size=30)"
   ]
  },
  {
   "cell_type": "code",
   "execution_count": 52,
   "metadata": {
    "ExecuteTime": {
     "end_time": "2021-03-09T18:54:23.030010Z",
     "start_time": "2021-03-09T18:54:23.021051Z"
    }
   },
   "outputs": [
    {
     "data": {
      "text/plain": [
       "9"
      ]
     },
     "execution_count": 52,
     "metadata": {},
     "output_type": "execute_result"
    }
   ],
   "source": [
    "#binomial distribution with n = 30, p=.35\n",
    "np.random.binomial(30, .35)"
   ]
  },
  {
   "cell_type": "markdown",
   "metadata": {},
   "source": [
    "Let's plot a histogram of some simulated data:"
   ]
  },
  {
   "cell_type": "code",
   "execution_count": 53,
   "metadata": {
    "ExecuteTime": {
     "end_time": "2021-03-09T18:58:15.898452Z",
     "start_time": "2021-03-09T18:58:15.427927Z"
    }
   },
   "outputs": [],
   "source": [
    "import matplotlib.pyplot as plt"
   ]
  },
  {
   "cell_type": "code",
   "execution_count": 60,
   "metadata": {
    "ExecuteTime": {
     "end_time": "2021-03-09T19:02:23.724384Z",
     "start_time": "2021-03-09T19:02:23.520721Z"
    }
   },
   "outputs": [
    {
     "data": {
      "image/png": "[encoded data removed]",
      "text/plain": [
       "<Figure size 432x288 with 1 Axes>"
      ]
     },
     "metadata": {
      "needs_background": "light"
     },
     "output_type": "display_data"
    }
   ],
   "source": [
    "#generate from normal\n",
    "dat = np.random.normal(10, 3, size=30)\n",
    "\n",
    "plt.hist(dat, rwidth = .9, bins=\"auto\", color = \"red\")\n",
    "plt.title(\"A random sample from a normal distribution\")\n",
    "plt.show()"
   ]
  },
  {
   "cell_type": "code",
   "execution_count": 66,
   "metadata": {
    "ExecuteTime": {
     "end_time": "2021-03-09T19:05:33.501393Z",
     "start_time": "2021-03-09T19:05:33.223453Z"
    }
   },
   "outputs": [
    {
     "data": {
      "image/png": "[encoded data removed]",
      "text/plain": [
       "<Figure size 432x288 with 1 Axes>"
      ]
     },
     "metadata": {
      "needs_background": "light"
     },
     "output_type": "display_data"
    }
   ],
   "source": [
    "#generate from a beta \n",
    "dat = np.random.beta(2, 2, size = 10000)\n",
    "\n",
    "plt.hist(dat, rwidth = .9, bins=\"auto\", color = \"red\")\n",
    "plt.title(\"A random sample from a beta distribution\")\n",
    "plt.show()"
   ]
  },
  {
   "cell_type": "code",
   "execution_count": null,
   "metadata": {},
   "outputs": [],
   "source": []
  }
 ],
 "metadata": {
  "kernelspec": {
   "display_name": "Python 3",
   "language": "python",
   "name": "python3"
  },
  "language_info": {
   "codemirror_mode": {
    "name": "ipython",
    "version": 3
   },
   "file_extension": ".py",
   "mimetype": "text/x-python",
   "name": "python",
   "nbconvert_exporter": "python",
   "pygments_lexer": "ipython3",
   "version": "3.7.6"
  },
  "varInspector": {
   "cols": {
    "lenName": 16,
    "lenType": 16,
    "lenVar": 40
   },
   "kernels_config": {
    "python": {
     "delete_cmd_postfix": "",
     "delete_cmd_prefix": "del ",
     "library": "var_list.py",
     "varRefreshCmd": "print(var_dic_list())"
    },
    "r": {
     "delete_cmd_postfix": ") ",
     "delete_cmd_prefix": "rm(",
     "library": "var_list.r",
     "varRefreshCmd": "cat(var_dic_list()) "
    }
   },
   "types_to_exclude": [
    "module",
    "function",
    "builtin_function_or_method",
    "instance",
    "_Feature"
   ],
   "window_display": false
  }
 },
 "nbformat": 4,
 "nbformat_minor": 4
}
